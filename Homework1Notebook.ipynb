{
 "cells": [
  {
   "cell_type": "code",
   "execution_count": 1,
   "metadata": {
    "collapsed": false
   },
   "outputs": [],
   "source": [
    "import numpy as np\n",
    "import sympy as sp\n",
    "import adaptive_trapezint as p1\n",
    "import sinesum1 as p2\n",
    "import centered_diff as p3\n",
    "import find_primes as p4"
   ]
  },
  {
   "cell_type": "markdown",
   "metadata": {},
   "source": [
    "# Homework 2\n",
    "Michael Seaman\n",
    "\n",
    "2/12/16"
   ]
  },
  {
   "cell_type": "markdown",
   "metadata": {},
   "source": [
    "## Problem 3.8: Adaptive Trapazoid Approximation\n",
    "Using the trapazoid approximation to find areas under the curve, we can get a good guess at bounded integration, however, we can find how many trapazoids we want to use  by specifying a maximum error $\\epsilon$ and then using the following equation:\n",
    "\n",
    "$n = (b-a)\\sqrt{\\frac{(b-a) max\\left|f''(x)\\right|}{12\\epsilon}}$\n",
    "\n",
    "In this example, \"some_function\" is $f(x) = x^{4} + x^{2}$ evaluated from 0 to 20.\n",
    "\n",
    "Actual result? $$\\int_{0}^{20} (x^4 + x^2) dx = 642667 $$"
   ]
  },
  {
   "cell_type": "code",
   "execution_count": 5,
   "metadata": {
    "collapsed": false
   },
   "outputs": [
    {
     "name": "stdout",
     "output_type": "stream",
     "text": [
      "642665.509138\n"
     ]
    }
   ],
   "source": [
    "def some_function(x):\n",
    "    return x**4 + x**2\n",
    "print(p1.adaptive_trapezint(some_function, 0, 20))"
   ]
  },
  {
   "cell_type": "markdown",
   "metadata": {},
   "source": [
    "## Problem 3.15: Fourier series Approximation\n",
    "The function we're trying to model is a piecewise function following:\n",
    "\n",
    "$f(t) =    \\left\\{\n",
    "\\begin{array}{ll}\n",
    "      1 & 0<t<T/2 \\\\\n",
    "      0 & t = T/2 \\\\\n",
    "      -1 & T/2<t<T \\\\   \n",
    "\\end{array} \n",
    "\\right.$\n",
    "\n",
    "We're trying to approximate it with the sinosoidal Fourier approximation:\n",
    "$S(t;n) = \\frac{4}{\\pi}\\sum_{i=0}^{n}\\frac{1}{2i-1}sin(\\frac{2(2i+1)\\pi t}{T})$\n",
    "\n",
    "We will see how accurate S is at approximating f by trying different vaules of n (the number of sinewaves used to approximate) and with different vaues for $\\alpha$ where $\\alpha=\\frac{t}{T}$.\n"
   ]
  },
  {
   "cell_type": "code",
   "execution_count": 2,
   "metadata": {
    "collapsed": false
   },
   "outputs": [
    {
     "name": "stdout",
     "output_type": "stream",
     "text": [
      "alphas:    0.01    0.25    0.49\n",
      "n: 1      0.92    -0.273    0.92\n",
      "n: 3      0.762    -0.103    0.762\n",
      "n: 5      0.609    -0.0631    0.609\n",
      "n: 10      0.267    0.0318    0.267\n",
      "n: 30      -0.145    0.0106    -0.145\n",
      "n: 100      0.0501    0.00318    0.0501\n"
     ]
    }
   ],
   "source": [
    "p2.print_error_results()"
   ]
  },
  {
   "cell_type": "markdown",
   "metadata": {
    "collapsed": true
   },
   "source": [
    "## Problem 3.18 Numerical differentiation\n",
    "\n",
    "The \"diff\" function follows the formula:\n",
    "\n",
    "$f'(x) \\approx \\frac{f(x+h) - f(x-h)}{2h}$\n",
    "\n",
    "in order to approximate the derivative of f at x using a very small value for h.\n",
    "\n",
    "Below we use the functions:\n",
    "\n",
    "$f_{1}(x) = e^{x}$ at $x=0$\n",
    "\n",
    "$f_{2}(x) = e^{-2x^{2}}$ at $x=0$\n",
    "\n",
    "$f_{3}(x) = cos{x}$ at $x=2\\pi$\n",
    "\n",
    "$f_{4}(x) = ln{x}$ at $x=1$\n",
    "\n",
    "and calculate the difference of our differentiating function's output with h = .01 with the actual result."
   ]
  },
  {
   "cell_type": "code",
   "execution_count": 4,
   "metadata": {
    "collapsed": false
   },
   "outputs": [
    {
     "name": "stdout",
     "output_type": "stream",
     "text": [
      "Result: 1.00001666675, answer: 1, difference -1.66667499921e-05\n",
      "Result: 0.0, answer: 0, difference 0.0\n",
      "Result: 0.0, answer: 0, difference 0.0\n",
      "Result: 1.00003333533, answer: 1, difference -3.33353334772e-05\n"
     ]
    }
   ],
   "source": [
    "p3.application()"
   ]
  },
  {
   "cell_type": "markdown",
   "metadata": {
    "collapsed": true
   },
   "source": [
    "## 3.34 Finding Prime numbers\n",
    "This application uses the sieve of Eratosthenes algorithm to find pirme numbers less than or equal to the input. The algorithm checks off multiples of the lowest candidate that is still prime and removes them from the candidates; then moving up to the next."
   ]
  },
  {
   "cell_type": "code",
   "execution_count": 4,
   "metadata": {
    "collapsed": false
   },
   "outputs": [
    {
     "data": {
      "text/plain": [
       "[2, 3, 5, 7]"
      ]
     },
     "execution_count": 4,
     "metadata": {},
     "output_type": "execute_result"
    }
   ],
   "source": [
    "p4.find_primes(10)"
   ]
  },
  {
   "cell_type": "code",
   "execution_count": 6,
   "metadata": {
    "collapsed": false
   },
   "outputs": [
    {
     "data": {
      "text/plain": [
       "[2,\n",
       " 3,\n",
       " 5,\n",
       " 7,\n",
       " 11,\n",
       " 13,\n",
       " 17,\n",
       " 19,\n",
       " 23,\n",
       " 29,\n",
       " 31,\n",
       " 37,\n",
       " 41,\n",
       " 43,\n",
       " 47,\n",
       " 53,\n",
       " 59,\n",
       " 61,\n",
       " 67,\n",
       " 71,\n",
       " 73,\n",
       " 79,\n",
       " 83,\n",
       " 89,\n",
       " 97,\n",
       " 101,\n",
       " 103,\n",
       " 107,\n",
       " 109,\n",
       " 113,\n",
       " 127,\n",
       " 131,\n",
       " 137,\n",
       " 139,\n",
       " 149,\n",
       " 151,\n",
       " 157,\n",
       " 163,\n",
       " 167,\n",
       " 173,\n",
       " 179,\n",
       " 181,\n",
       " 191,\n",
       " 193,\n",
       " 197,\n",
       " 199,\n",
       " 211,\n",
       " 223,\n",
       " 227,\n",
       " 229,\n",
       " 233,\n",
       " 239,\n",
       " 241,\n",
       " 251,\n",
       " 257,\n",
       " 263,\n",
       " 269,\n",
       " 271,\n",
       " 277,\n",
       " 281,\n",
       " 283,\n",
       " 293,\n",
       " 307,\n",
       " 311,\n",
       " 313,\n",
       " 317,\n",
       " 331,\n",
       " 337,\n",
       " 347,\n",
       " 349,\n",
       " 353,\n",
       " 359,\n",
       " 367,\n",
       " 373,\n",
       " 379,\n",
       " 383,\n",
       " 389,\n",
       " 397,\n",
       " 401,\n",
       " 409,\n",
       " 419,\n",
       " 421,\n",
       " 431,\n",
       " 433,\n",
       " 439,\n",
       " 443,\n",
       " 449,\n",
       " 457,\n",
       " 461,\n",
       " 463,\n",
       " 467,\n",
       " 479,\n",
       " 487,\n",
       " 491,\n",
       " 499]"
      ]
     },
     "execution_count": 6,
     "metadata": {},
     "output_type": "execute_result"
    }
   ],
   "source": [
    "print(p4.find_primes(500))"
   ]
  }
 ],
 "metadata": {
  "kernelspec": {
   "display_name": "Python 2 (SageMath)",
   "language": "python",
   "name": "python2"
  },
  "language_info": {
   "codemirror_mode": {
    "name": "ipython",
    "version": 2
   },
   "file_extension": ".py",
   "mimetype": "text/x-python",
   "name": "python",
   "nbconvert_exporter": "python",
   "pygments_lexer": "ipython2",
   "version": "2.7.10"
  },
  "name": "Homework1Notebook.ipynb"
 },
 "nbformat": 4,
 "nbformat_minor": 0
}
